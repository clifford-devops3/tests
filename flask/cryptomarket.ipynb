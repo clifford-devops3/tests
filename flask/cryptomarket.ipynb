{
 "cells": [
  {
   "attachments": {},
   "cell_type": "markdown",
   "metadata": {},
   "source": [
    "### LSTM"
   ]
  },
  {
   "cell_type": "code",
   "execution_count": 1,
   "metadata": {},
   "outputs": [],
   "source": [
    "from cryptocmd import CmcScraper\n",
    "import pandas as pd\n",
    "from keras.models import Sequential\n",
    "from keras.layers import LSTM, Dense, Bidirectional, TimeDistributed\n",
    "from keras.layers import Flatten\n",
    "from keras.layers.convolutional import Conv1D\n",
    "from keras.layers.convolutional import MaxPooling1D\n",
    "import numpy as np"
   ]
  },
  {
   "cell_type": "code",
   "execution_count": 6,
   "metadata": {},
   "outputs": [],
   "source": [
    "scraper = CmcScraper(\"BTC\")\n",
    "headers, data =  scraper.get_data()\n",
    "bit_data = pd.DataFrame(data, columns=headers)\n",
    "bit_data.to_csv(\"bit_data.csv\", index=False)"
   ]
  },
  {
   "cell_type": "code",
   "execution_count": 2,
   "metadata": {},
   "outputs": [],
   "source": [
    "# Univariate LSTM - Predice the next possible value\n",
    "\n",
    "# Sample data\n",
    "\n",
    "items = [10,20,30,40,50,60,70,80,90,100,110,120,130]\n",
    "\n",
    "def make_sequence(data, n_steps):\n",
    "    X,y = [], []\n",
    "    for i in range(len(data)): \n",
    "        X.append(data[i:i+n_steps])\n",
    "        y.append(data[i+n_steps])\n",
    "        if(i + n_steps == len(data) -1 ):\n",
    "            break\n",
    "    return X,y\n",
    "\n",
    "data_lstm = make_sequence(items, 3)\n",
    "X = np.array(data_lstm[0])\n",
    "X = X.reshape(X.shape[0], X.shape[1], 1)"
   ]
  },
  {
   "cell_type": "code",
   "execution_count": 10,
   "metadata": {},
   "outputs": [
    {
     "data": {
      "text/plain": [
       "<keras.callbacks.History at 0x1c63913f130>"
      ]
     },
     "execution_count": 10,
     "metadata": {},
     "output_type": "execute_result"
    }
   ],
   "source": [
    "# Vanilla LSTM model\n",
    "lstm_model = Sequential()\n",
    "lstm_model.add(LSTM(50, activation=\"relu\", input_shape=(3, 1)))\n",
    "lstm_model.add(Dense(1))\n",
    "\n",
    "lstm_model.compile(optimizer=\"adam\", loss=\"mse\")\n",
    "lstm_model.fit(X, np.array(data_lstm[1]), epochs=200, verbose=0) "
   ]
  },
  {
   "cell_type": "code",
   "execution_count": 11,
   "metadata": {},
   "outputs": [
    {
     "data": {
      "text/plain": [
       "<keras.callbacks.History at 0x1c63b3fcd30>"
      ]
     },
     "execution_count": 11,
     "metadata": {},
     "output_type": "execute_result"
    }
   ],
   "source": [
    "# Stacked LSTM model\n",
    "lstm_model = Sequential()\n",
    "lstm_model.add(LSTM(50, activation=\"relu\", input_shape=(3, 1), return_sequences=True))\n",
    "lstm_model.add(LSTM(50, activation=\"relu\"))\n",
    "lstm_model.add(Dense(1))\n",
    "\n",
    "lstm_model.compile(optimizer=\"adam\", loss=\"mse\")\n",
    "lstm_model.fit(X, np.array(data_lstm[1]), epochs=200, verbose=0) "
   ]
  },
  {
   "cell_type": "code",
   "execution_count": 13,
   "metadata": {},
   "outputs": [
    {
     "data": {
      "text/plain": [
       "<keras.callbacks.History at 0x1c642c9aeb0>"
      ]
     },
     "execution_count": 13,
     "metadata": {},
     "output_type": "execute_result"
    }
   ],
   "source": [
    "# Bidirectional Modle - The model can learn the input sequences both forward and backward\n",
    "\n",
    "model = Sequential()\n",
    "model.add(Bidirectional(LSTM(50, activation=\"relu\"), input_shape=(3,1)))\n",
    "model.add(Dense(1))\n",
    "\n",
    "model.compile(loss='mse', optimizer=\"adam\")\n",
    "model.fit(X, np.array(data_lstm[1]), epochs=200, verbose=0)"
   ]
  },
  {
   "cell_type": "code",
   "execution_count": 5,
   "metadata": {},
   "outputs": [],
   "source": [
    "#predictions\n",
    "input_data = np.array([110,120,130])\n",
    "input_data = input_data.reshape(1,3,1)"
   ]
  },
  {
   "cell_type": "code",
   "execution_count": 15,
   "metadata": {},
   "outputs": [
    {
     "name": "stdout",
     "output_type": "stream",
     "text": [
      "1/1 [==============================] - 0s 278ms/step\n"
     ]
    },
    {
     "data": {
      "text/plain": [
       "array([[140.63837]], dtype=float32)"
      ]
     },
     "execution_count": 15,
     "metadata": {},
     "output_type": "execute_result"
    }
   ],
   "source": [
    "lstm_model.predict(input_data)"
   ]
  },
  {
   "cell_type": "code",
   "execution_count": 16,
   "metadata": {},
   "outputs": [
    {
     "name": "stdout",
     "output_type": "stream",
     "text": [
      "1/1 [==============================] - 0s 257ms/step\n"
     ]
    },
    {
     "data": {
      "text/plain": [
       "array([[140.76653]], dtype=float32)"
      ]
     },
     "execution_count": 16,
     "metadata": {},
     "output_type": "execute_result"
    }
   ],
   "source": [
    "stacked_model.predict(input_data)"
   ]
  },
  {
   "cell_type": "code",
   "execution_count": 17,
   "metadata": {},
   "outputs": [
    {
     "name": "stdout",
     "output_type": "stream",
     "text": [
      "1/1 [==============================] - 0s 255ms/step\n"
     ]
    },
    {
     "data": {
      "text/plain": [
       "array([[140.94589]], dtype=float32)"
      ]
     },
     "execution_count": 17,
     "metadata": {},
     "output_type": "execute_result"
    }
   ],
   "source": [
    "model.predict(input_data)"
   ]
  },
  {
   "attachments": {},
   "cell_type": "markdown",
   "metadata": {},
   "source": [
    "### LSTM CNN"
   ]
  },
  {
   "cell_type": "code",
   "execution_count": 6,
   "metadata": {},
   "outputs": [],
   "source": [
    "items1 = [10,20,30,40,50,60,70,80,90, 100, 110,120]\n",
    "data_lstm1 = make_sequence(items1, 4)\n",
    "\n",
    "X1 = np.array(data_lstm1[0])\n",
    "X1 = X1.reshape(X1.shape[0], 2, 2, 1)"
   ]
  },
  {
   "cell_type": "code",
   "execution_count": 7,
   "metadata": {},
   "outputs": [
    {
     "data": {
      "text/plain": [
       "<keras.callbacks.History at 0x25763b31f40>"
      ]
     },
     "execution_count": 7,
     "metadata": {},
     "output_type": "execute_result"
    }
   ],
   "source": [
    "conv1d_model = Sequential()\n",
    "conv1d_model.add(TimeDistributed(Conv1D(filters=64, activation=\"relu\", kernel_size=1), input_shape=(None, 2, 1)))\n",
    "conv1d_model.add(TimeDistributed(MaxPooling1D(pool_size=2)))\n",
    "conv1d_model.add(TimeDistributed(Flatten()))\n",
    "\n",
    "conv1d_model.add(LSTM(50, activation=\"relu\"))\n",
    "conv1d_model.add(Dense(1))\n",
    "\n",
    "conv1d_model.compile(loss='mse', optimizer=\"adam\")\n",
    "conv1d_model.fit(X1, np.array(data_lstm1[1]), epochs=500, verbose=0)"
   ]
  },
  {
   "cell_type": "code",
   "execution_count": 11,
   "metadata": {},
   "outputs": [],
   "source": [
    "input_data1 = np.array([100, 110,120,130])\n",
    "input_data1 = input_data1.reshape(1,2, 2, 1)"
   ]
  },
  {
   "cell_type": "code",
   "execution_count": 13,
   "metadata": {},
   "outputs": [
    {
     "name": "stdout",
     "output_type": "stream",
     "text": [
      "1/1 [==============================] - 0s 239ms/step\n"
     ]
    },
    {
     "data": {
      "text/plain": [
       "array([[141.3129]], dtype=float32)"
      ]
     },
     "execution_count": 13,
     "metadata": {},
     "output_type": "execute_result"
    }
   ],
   "source": [
    "conv1d_model.predict(input_data1)"
   ]
  },
  {
   "attachments": {},
   "cell_type": "markdown",
   "metadata": {},
   "source": [
    "### Multivariate LSTM"
   ]
  },
  {
   "cell_type": "code",
   "execution_count": 14,
   "metadata": {},
   "outputs": [],
   "source": [
    "seq_1 = np.array([10,20,30,40,50,60,70,80,90])\n",
    "seq_2 = np.array([15,25,35,45,55,65,75,85,95])\n",
    "seq_3 = np.array([seq_1[i] + seq_2[i] for i in range(len(seq_1))])"
   ]
  },
  {
   "cell_type": "code",
   "execution_count": 17,
   "metadata": {},
   "outputs": [
    {
     "data": {
      "text/plain": [
       "(array([[10],\n",
       "        [20],\n",
       "        [30],\n",
       "        [40],\n",
       "        [50],\n",
       "        [60],\n",
       "        [70],\n",
       "        [80],\n",
       "        [90]]),\n",
       " array([[15],\n",
       "        [25],\n",
       "        [35],\n",
       "        [45],\n",
       "        [55],\n",
       "        [65],\n",
       "        [75],\n",
       "        [85],\n",
       "        [95]]),\n",
       " array([[ 25],\n",
       "        [ 45],\n",
       "        [ 65],\n",
       "        [ 85],\n",
       "        [105],\n",
       "        [125],\n",
       "        [145],\n",
       "        [165],\n",
       "        [185]]))"
      ]
     },
     "execution_count": 17,
     "metadata": {},
     "output_type": "execute_result"
    }
   ],
   "source": [
    "seq_1, seq_2, seq_3"
   ]
  },
  {
   "cell_type": "code",
   "execution_count": 16,
   "metadata": {},
   "outputs": [],
   "source": [
    "seq_1, seq_2, seq_3 = seq_1.reshape(9,1),seq_2.reshape(9,1),seq_3.reshape(9,1)"
   ]
  },
  {
   "cell_type": "code",
   "execution_count": 18,
   "metadata": {},
   "outputs": [],
   "source": [
    "data = np.hstack((seq_1, seq_2, seq_3))"
   ]
  },
  {
   "cell_type": "code",
   "execution_count": 20,
   "metadata": {},
   "outputs": [
    {
     "data": {
      "text/plain": [
       "(9, 3)"
      ]
     },
     "execution_count": 20,
     "metadata": {},
     "output_type": "execute_result"
    }
   ],
   "source": [
    "data.shape"
   ]
  },
  {
   "cell_type": "code",
   "execution_count": 38,
   "metadata": {},
   "outputs": [],
   "source": [
    "def new_seq(data, n_steps):\n",
    "    X,y = [], []\n",
    "    for i in range(data.shape[0]):\n",
    "        X.append(data[i:i + n_steps, :-1])\n",
    "        y.append(data[i + n_steps - 1,-1])\n",
    "        if i + n_steps == data.shape[0] - 1:\n",
    "            break\n",
    "        \n",
    "\n",
    "    return X,y\n",
    "\n",
    "X, y = np.array(new_seq(data, 3)[0]), np.array(new_seq(data, 3)[1])\n"
   ]
  },
  {
   "cell_type": "code",
   "execution_count": 39,
   "metadata": {},
   "outputs": [
    {
     "data": {
      "text/plain": [
       "((6, 3, 2), (6,))"
      ]
     },
     "execution_count": 39,
     "metadata": {},
     "output_type": "execute_result"
    }
   ],
   "source": [
    "X.shape, y.shape"
   ]
  },
  {
   "cell_type": "code",
   "execution_count": 37,
   "metadata": {},
   "outputs": [
    {
     "data": {
      "text/plain": [
       "(array([[10, 15],\n",
       "        [20, 25],\n",
       "        [30, 35]]),\n",
       " 65)"
      ]
     },
     "execution_count": 37,
     "metadata": {},
     "output_type": "execute_result"
    }
   ],
   "source": [
    "data[0:3, :-1], data[2,-1]"
   ]
  },
  {
   "cell_type": "code",
   "execution_count": null,
   "metadata": {},
   "outputs": [],
   "source": []
  }
 ],
 "metadata": {
  "kernelspec": {
   "display_name": "finspace",
   "language": "python",
   "name": "python3"
  },
  "language_info": {
   "codemirror_mode": {
    "name": "ipython",
    "version": 3
   },
   "file_extension": ".py",
   "mimetype": "text/x-python",
   "name": "python",
   "nbconvert_exporter": "python",
   "pygments_lexer": "ipython3",
   "version": "3.8.13"
  },
  "orig_nbformat": 4,
  "vscode": {
   "interpreter": {
    "hash": "c11f558ee9350ca59dc918288fefe24432d3984040b6ba29f98605aa5759b8cc"
   }
  }
 },
 "nbformat": 4,
 "nbformat_minor": 2
}
